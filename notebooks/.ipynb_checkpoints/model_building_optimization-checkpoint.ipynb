{
 "cells": [
  {
   "cell_type": "markdown",
   "id": "80ba0aa2-ee78-4437-ab15-53fd1a75716e",
   "metadata": {},
   "source": [
    "# Paris House Price Prediction - Regression Problem\n",
    "\n",
    "## Introduction\n",
    "\n",
    "This project involves predicting house prices in Paris using a dataset created from imaginary data representing various features of houses in an urban environment. The dataset is ideal for educational purposes, allowing students and practitioners to practice regression modeling and enhance their knowledge in data science.\n",
    "\n",
    "## Content\n",
    "\n",
    "The dataset provides a comprehensive view of house attributes, making it suitable for building regression models to predict house prices. Each row represents a house, and each column represents a specific feature of the house.\n",
    "\n",
    "## Source\n",
    "\n",
    "This dataset is available on Kaggle in the following link:\n",
    "> [https://www.kaggle.com/datasets/mssmartypants/paris-housing-price-prediction/data]\n",
    "\n",
    "## Data Dictionary\n",
    "\n",
    "All attributes in the dataset are numeric variables, which are described below:\n",
    "\n",
    "- **squareMeters**: The total area of the house in square meters. This is numeric.\n",
    "- **numberOfRooms**: The total number of rooms in the house. This is numeric.\n",
    "- **hasYard**: Indicates whether the house has a yard (1 for yes, 0 for no). This is binary.\n",
    "- **hasPool**: Indicates whether the house has a swimming pool (1 for yes, 0 for no). This is binary.\n",
    "- **floors**: The number of floors in the house. This is numeric.\n",
    "- **cityCode**: The zip code of the area where the house is located. This is numeric.\n",
    "- **cityPartRange**: Indicates the exclusivity of the neighborhood (the higher the range, the more exclusive the neighborhood).\n",
    "- **numPrevOwners**: The number of previous owners the house has had. This is numeric.\n",
    "- **made**: The year the house was built. This is numeric.\n",
    "- **isNewBuilt**: Indicates whether the house is newly built (1 for yes, 0 for no). This is binary.\n",
    "- **hasStormProtector**: Indicates whether the house has a storm protector (1 for yes, 0 for no). This is binary.\n",
    "- **basement**: The size of the basement in square meters. This is numeric.\n",
    "- **attic**: The size of the attic in square meters. This is numeric.\n",
    "- **garage**: The size of the garage in square meters. This is numeric.\n",
    "- **hasStorageRoom**: Indicates whether the house has a storage room (1 for yes, 0 for no). This is binary.\n",
    "- **hasGuestRoom**: The number of guest rooms in the house. This is numeric.\n",
    "- **price**: The predicted price of the house (target variable).\n",
    "\n",
    "## Problem Statement\n",
    "\n",
    "1. **Model Building**: Train the model with the dataset to predict the price of house in Paris.\n",
    "2. **Model Evatuation**: Evaluate the performance of the model with different metrics such as R2 Score, Mean Absolute Error(MAE), Mean Squared Error(MSE) and Root Mean Squared Error(RMSE).\n",
    "3. **Model Optimization**: Optimize the peroformance of the model to enhance the performance and decrease the error in prediction using cross validation and hyperparameter tuning. "
   ]
  },
  {
   "cell_type": "markdown",
   "id": "94a2989b-6675-42ed-9f97-f57e46906ed5",
   "metadata": {},
   "source": [
    "### Load Libraries"
   ]
  },
  {
   "cell_type": "code",
   "execution_count": 1,
   "id": "4fba4302-5aa2-46f0-8bbe-8c523bf5d63b",
   "metadata": {},
   "outputs": [
    {
     "ename": "AttributeError",
     "evalue": "dlsym(0x2053aeda0, path): symbol not found",
     "output_type": "error",
     "traceback": [
      "\u001b[0;31m---------------------------------------------------------------------------\u001b[0m",
      "\u001b[0;31mAttributeError\u001b[0m                            Traceback (most recent call last)",
      "Cell \u001b[0;32mIn[1], line 13\u001b[0m\n\u001b[1;32m      9\u001b[0m \u001b[38;5;28;01mfrom\u001b[39;00m \u001b[38;5;21;01msklearn\u001b[39;00m\u001b[38;5;21;01m.\u001b[39;00m\u001b[38;5;21;01mmodel_selection\u001b[39;00m \u001b[38;5;28;01mimport\u001b[39;00m train_test_split\n\u001b[1;32m     11\u001b[0m \u001b[38;5;66;03m# Model building and evaluation\u001b[39;00m\n\u001b[1;32m     12\u001b[0m \u001b[38;5;66;03m# from xgboost import XGBRegressor\u001b[39;00m\n\u001b[0;32m---> 13\u001b[0m \u001b[38;5;28;01mimport\u001b[39;00m \u001b[38;5;21;01mxgboost\u001b[39;00m \u001b[38;5;28;01mas\u001b[39;00m \u001b[38;5;21;01mxgb\u001b[39;00m\n",
      "File \u001b[0;32m~/opt/anaconda3/envs/dscourse/lib/python3.11/site-packages/xgboost/__init__.py:6\u001b[0m\n\u001b[1;32m      1\u001b[0m \u001b[38;5;124;03m\"\"\"XGBoost: eXtreme Gradient Boosting library.\u001b[39;00m\n\u001b[1;32m      2\u001b[0m \n\u001b[1;32m      3\u001b[0m \u001b[38;5;124;03mContributors: https://github.com/dmlc/xgboost/blob/master/CONTRIBUTORS.md\u001b[39;00m\n\u001b[1;32m      4\u001b[0m \u001b[38;5;124;03m\"\"\"\u001b[39;00m\n\u001b[0;32m----> 6\u001b[0m \u001b[38;5;28;01mfrom\u001b[39;00m \u001b[38;5;21;01m.\u001b[39;00m\u001b[38;5;21;01mcore\u001b[39;00m \u001b[38;5;28;01mimport\u001b[39;00m (\n\u001b[1;32m      7\u001b[0m     DMatrix,\n\u001b[1;32m      8\u001b[0m     DeviceQuantileDMatrix,\n\u001b[1;32m      9\u001b[0m     Booster,\n\u001b[1;32m     10\u001b[0m     DataIter,\n\u001b[1;32m     11\u001b[0m     build_info,\n\u001b[1;32m     12\u001b[0m     _py_version,\n\u001b[1;32m     13\u001b[0m )\n\u001b[1;32m     14\u001b[0m \u001b[38;5;28;01mfrom\u001b[39;00m \u001b[38;5;21;01m.\u001b[39;00m\u001b[38;5;21;01mtraining\u001b[39;00m \u001b[38;5;28;01mimport\u001b[39;00m train, cv\n\u001b[1;32m     15\u001b[0m \u001b[38;5;28;01mfrom\u001b[39;00m \u001b[38;5;21;01m.\u001b[39;00m \u001b[38;5;28;01mimport\u001b[39;00m rabit  \u001b[38;5;66;03m# noqa\u001b[39;00m\n",
      "File \u001b[0;32m~/opt/anaconda3/envs/dscourse/lib/python3.11/site-packages/xgboost/core.py:231\u001b[0m\n\u001b[1;32m    227\u001b[0m     \u001b[38;5;28;01mreturn\u001b[39;00m lib\n\u001b[1;32m    230\u001b[0m \u001b[38;5;66;03m# load the XGBoost library globally\u001b[39;00m\n\u001b[0;32m--> 231\u001b[0m _LIB \u001b[38;5;241m=\u001b[39m _load_lib()\n\u001b[1;32m    234\u001b[0m \u001b[38;5;28;01mdef\u001b[39;00m \u001b[38;5;21m_check_call\u001b[39m(ret: \u001b[38;5;28mint\u001b[39m) \u001b[38;5;241m-\u001b[39m\u001b[38;5;241m>\u001b[39m \u001b[38;5;28;01mNone\u001b[39;00m:\n\u001b[1;32m    235\u001b[0m \u001b[38;5;250m    \u001b[39m\u001b[38;5;124;03m\"\"\"Check the return value of C API call\u001b[39;00m\n\u001b[1;32m    236\u001b[0m \n\u001b[1;32m    237\u001b[0m \u001b[38;5;124;03m    This function will raise exception when error occurs.\u001b[39;00m\n\u001b[0;32m   (...)\u001b[0m\n\u001b[1;32m    243\u001b[0m \u001b[38;5;124;03m        return value from API calls\u001b[39;00m\n\u001b[1;32m    244\u001b[0m \u001b[38;5;124;03m    \"\"\"\u001b[39;00m\n",
      "File \u001b[0;32m~/opt/anaconda3/envs/dscourse/lib/python3.11/site-packages/xgboost/core.py:220\u001b[0m, in \u001b[0;36m_load_lib\u001b[0;34m()\u001b[0m\n\u001b[1;32m    215\u001b[0m         pyver_str \u001b[38;5;241m=\u001b[39m \u001b[38;5;124m\"\u001b[39m\u001b[38;5;124m.\u001b[39m\u001b[38;5;124m\"\u001b[39m\u001b[38;5;241m.\u001b[39mjoin((\u001b[38;5;28mstr\u001b[39m(v) \u001b[38;5;28;01mfor\u001b[39;00m v \u001b[38;5;129;01min\u001b[39;00m pyver))\n\u001b[1;32m    216\u001b[0m         libver_str \u001b[38;5;241m=\u001b[39m \u001b[38;5;124m\"\u001b[39m\u001b[38;5;124m.\u001b[39m\u001b[38;5;124m\"\u001b[39m\u001b[38;5;241m.\u001b[39mjoin((\u001b[38;5;28mstr\u001b[39m(v) \u001b[38;5;28;01mfor\u001b[39;00m v \u001b[38;5;129;01min\u001b[39;00m libver))\n\u001b[1;32m    217\u001b[0m         msg \u001b[38;5;241m=\u001b[39m (\n\u001b[1;32m    218\u001b[0m             \u001b[38;5;124m\"\u001b[39m\u001b[38;5;124mMismatched version between the Python package and the native shared \u001b[39m\u001b[38;5;124m\"\u001b[39m\n\u001b[1;32m    219\u001b[0m             \u001b[38;5;124mf\u001b[39m\u001b[38;5;124m\"\"\"\u001b[39m\u001b[38;5;124mobject.  Python package version: \u001b[39m\u001b[38;5;132;01m{\u001b[39;00mpyver_str\u001b[38;5;132;01m}\u001b[39;00m\u001b[38;5;124m. Shared object \u001b[39m\u001b[38;5;124m\"\"\"\u001b[39m\n\u001b[0;32m--> 220\u001b[0m             \u001b[38;5;124mf\u001b[39m\u001b[38;5;124m\"\"\"\u001b[39m\u001b[38;5;124mversion: \u001b[39m\u001b[38;5;132;01m{\u001b[39;00mlibver_str\u001b[38;5;132;01m}\u001b[39;00m\u001b[38;5;124m. Shared object is loaded from: \u001b[39m\u001b[38;5;132;01m{\u001b[39;00mlib\u001b[38;5;241m.\u001b[39mpath\u001b[38;5;132;01m}\u001b[39;00m\u001b[38;5;124m.\u001b[39m\n\u001b[1;32m    221\u001b[0m \u001b[38;5;124mLikely cause:\u001b[39m\n\u001b[1;32m    222\u001b[0m \u001b[38;5;124m  * XGBoost is first installed with anaconda then upgraded with pip. To fix it \u001b[39m\u001b[38;5;124m\"\"\"\u001b[39m\n\u001b[1;32m    223\u001b[0m             \u001b[38;5;124m\"\u001b[39m\u001b[38;5;124mplease remove one of the installations.\u001b[39m\u001b[38;5;124m\"\u001b[39m\n\u001b[1;32m    224\u001b[0m         )\n\u001b[1;32m    225\u001b[0m         \u001b[38;5;28;01mraise\u001b[39;00m \u001b[38;5;167;01mValueError\u001b[39;00m(msg)\n\u001b[1;32m    227\u001b[0m     \u001b[38;5;28;01mreturn\u001b[39;00m lib\n",
      "File \u001b[0;32m~/opt/anaconda3/envs/dscourse/lib/python3.11/ctypes/__init__.py:389\u001b[0m, in \u001b[0;36mCDLL.__getattr__\u001b[0;34m(self, name)\u001b[0m\n\u001b[1;32m    387\u001b[0m \u001b[38;5;28;01mif\u001b[39;00m name\u001b[38;5;241m.\u001b[39mstartswith(\u001b[38;5;124m'\u001b[39m\u001b[38;5;124m__\u001b[39m\u001b[38;5;124m'\u001b[39m) \u001b[38;5;129;01mand\u001b[39;00m name\u001b[38;5;241m.\u001b[39mendswith(\u001b[38;5;124m'\u001b[39m\u001b[38;5;124m__\u001b[39m\u001b[38;5;124m'\u001b[39m):\n\u001b[1;32m    388\u001b[0m     \u001b[38;5;28;01mraise\u001b[39;00m \u001b[38;5;167;01mAttributeError\u001b[39;00m(name)\n\u001b[0;32m--> 389\u001b[0m func \u001b[38;5;241m=\u001b[39m \u001b[38;5;28mself\u001b[39m\u001b[38;5;241m.\u001b[39m\u001b[38;5;21m__getitem__\u001b[39m(name)\n\u001b[1;32m    390\u001b[0m \u001b[38;5;28msetattr\u001b[39m(\u001b[38;5;28mself\u001b[39m, name, func)\n\u001b[1;32m    391\u001b[0m \u001b[38;5;28;01mreturn\u001b[39;00m func\n",
      "File \u001b[0;32m~/opt/anaconda3/envs/dscourse/lib/python3.11/ctypes/__init__.py:394\u001b[0m, in \u001b[0;36mCDLL.__getitem__\u001b[0;34m(self, name_or_ordinal)\u001b[0m\n\u001b[1;32m    393\u001b[0m \u001b[38;5;28;01mdef\u001b[39;00m \u001b[38;5;21m__getitem__\u001b[39m(\u001b[38;5;28mself\u001b[39m, name_or_ordinal):\n\u001b[0;32m--> 394\u001b[0m     func \u001b[38;5;241m=\u001b[39m \u001b[38;5;28mself\u001b[39m\u001b[38;5;241m.\u001b[39m_FuncPtr((name_or_ordinal, \u001b[38;5;28mself\u001b[39m))\n\u001b[1;32m    395\u001b[0m     \u001b[38;5;28;01mif\u001b[39;00m \u001b[38;5;129;01mnot\u001b[39;00m \u001b[38;5;28misinstance\u001b[39m(name_or_ordinal, \u001b[38;5;28mint\u001b[39m):\n\u001b[1;32m    396\u001b[0m         func\u001b[38;5;241m.\u001b[39m\u001b[38;5;18m__name__\u001b[39m \u001b[38;5;241m=\u001b[39m name_or_ordinal\n",
      "\u001b[0;31mAttributeError\u001b[0m: dlsym(0x2053aeda0, path): symbol not found"
     ]
    }
   ],
   "source": [
    "# General\n",
    "import pandas as pd\n",
    "import numpy as np\n",
    "import os\n",
    "import warnings\n",
    "\n",
    "# Preprocessing\n",
    "from sklearn.preprocessing import StandardScaler\n",
    "from sklearn.model_selection import train_test_split\n",
    "\n",
    "# Model building and evaluation\n",
    "# from xgboost import XGBRegressor\n",
    "import xgboost as xgb\n",
    "# from sklearn.metrics import r2_score, rmse, mae, mse\n",
    "\n"
   ]
  },
  {
   "cell_type": "code",
   "execution_count": null,
   "id": "7cdaa637-cd44-41f0-8059-e7be16198fea",
   "metadata": {},
   "outputs": [],
   "source": []
  }
 ],
 "metadata": {
  "kernelspec": {
   "display_name": "Python 3 (ipykernel)",
   "language": "python",
   "name": "python3"
  },
  "language_info": {
   "codemirror_mode": {
    "name": "ipython",
    "version": 3
   },
   "file_extension": ".py",
   "mimetype": "text/x-python",
   "name": "python",
   "nbconvert_exporter": "python",
   "pygments_lexer": "ipython3",
   "version": "3.11.9"
  }
 },
 "nbformat": 4,
 "nbformat_minor": 5
}
