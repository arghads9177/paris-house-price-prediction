{
 "cells": [
  {
   "cell_type": "markdown",
   "id": "80ba0aa2-ee78-4437-ab15-53fd1a75716e",
   "metadata": {},
   "source": [
    "# Paris House Price Prediction - Regression Problem\n",
    "\n",
    "## Introduction\n",
    "\n",
    "This project involves predicting house prices in Paris using a dataset created from imaginary data representing various features of houses in an urban environment. The dataset is ideal for educational purposes, allowing students and practitioners to practice regression modeling and enhance their knowledge in data science.\n",
    "\n",
    "## Content\n",
    "\n",
    "The dataset provides a comprehensive view of house attributes, making it suitable for building regression models to predict house prices. Each row represents a house, and each column represents a specific feature of the house.\n",
    "\n",
    "## Source\n",
    "\n",
    "This dataset is available on Kaggle in the following link:\n",
    "> [https://www.kaggle.com/datasets/mssmartypants/paris-housing-price-prediction/data]\n",
    "\n",
    "## Data Dictionary\n",
    "\n",
    "All attributes in the dataset are numeric variables, which are described below:\n",
    "\n",
    "- **squareMeters**: The total area of the house in square meters. This is numeric.\n",
    "- **numberOfRooms**: The total number of rooms in the house. This is numeric.\n",
    "- **hasYard**: Indicates whether the house has a yard (1 for yes, 0 for no). This is binary.\n",
    "- **hasPool**: Indicates whether the house has a swimming pool (1 for yes, 0 for no). This is binary.\n",
    "- **floors**: The number of floors in the house. This is numeric.\n",
    "- **cityCode**: The zip code of the area where the house is located. This is numeric.\n",
    "- **cityPartRange**: Indicates the exclusivity of the neighborhood (the higher the range, the more exclusive the neighborhood).\n",
    "- **numPrevOwners**: The number of previous owners the house has had. This is numeric.\n",
    "- **made**: The year the house was built. This is numeric.\n",
    "- **isNewBuilt**: Indicates whether the house is newly built (1 for yes, 0 for no). This is binary.\n",
    "- **hasStormProtector**: Indicates whether the house has a storm protector (1 for yes, 0 for no). This is binary.\n",
    "- **basement**: The size of the basement in square meters. This is numeric.\n",
    "- **attic**: The size of the attic in square meters. This is numeric.\n",
    "- **garage**: The size of the garage in square meters. This is numeric.\n",
    "- **hasStorageRoom**: Indicates whether the house has a storage room (1 for yes, 0 for no). This is binary.\n",
    "- **hasGuestRoom**: The number of guest rooms in the house. This is numeric.\n",
    "- **price**: The predicted price of the house (target variable).\n",
    "\n",
    "## Problem Statement\n",
    "\n",
    "1. **Model Building**: Train the model with the dataset to predict the price of house in Paris.\n",
    "2. **Model Evatuation**: Evaluate the performance of the model with different metrics such as R2 Score, Mean Absolute Error(MAE), Mean Squared Error(MSE) and Root Mean Squared Error(RMSE).\n",
    "3. **Model Optimization**: Optimize the peroformance of the model to enhance the performance and decrease the error in prediction using cross validation and hyperparameter tuning. "
   ]
  },
  {
   "cell_type": "markdown",
   "id": "94a2989b-6675-42ed-9f97-f57e46906ed5",
   "metadata": {},
   "source": [
    "### Load Libraries"
   ]
  },
  {
   "cell_type": "code",
   "execution_count": 29,
   "id": "4fba4302-5aa2-46f0-8bbe-8c523bf5d63b",
   "metadata": {},
   "outputs": [],
   "source": [
    "# General\n",
    "import pandas as pd\n",
    "import numpy as np\n",
    "import os\n",
    "import warnings\n",
    "import pickle\n",
    "\n",
    "# Preprocessing\n",
    "from sklearn.preprocessing import StandardScaler\n",
    "from sklearn.model_selection import train_test_split\n",
    "\n",
    "# Model building and evaluation\n",
    "from xgboost import XGBRegressor\n",
    "from sklearn.metrics import r2_score\n",
    "from sklearn import metrics\n",
    "\n",
    "# Hyperparameter Tuning\n",
    "from sklearn.model_selection import GridSearchCV"
   ]
  },
  {
   "cell_type": "markdown",
   "id": "770359ed-5238-4fd5-8cca-d7ab441bd803",
   "metadata": {},
   "source": [
    "### Settings"
   ]
  },
  {
   "cell_type": "code",
   "execution_count": 30,
   "id": "e75f91b9-c61d-49dd-8c29-73a10ab53db0",
   "metadata": {},
   "outputs": [],
   "source": [
    "# Warnings\n",
    "warnings.filterwarnings(\"ignore\")\n",
    "# Path\n",
    "data_path = \"../data\"\n",
    "model_path = \"../models\"\n",
    "csv_path = os.path.join(data_path, \"ParisHousing_uf.csv\")"
   ]
  },
  {
   "cell_type": "code",
   "execution_count": 12,
   "id": "53a3b465-2786-41a7-b57e-847e2e55d74c",
   "metadata": {},
   "outputs": [],
   "source": [
    "df = pd.read_csv(csv_path)"
   ]
  },
  {
   "cell_type": "code",
   "execution_count": 13,
   "id": "dea00525-8481-4c93-86e3-42909960a0d8",
   "metadata": {},
   "outputs": [
    {
     "data": {
      "text/html": [
       "<div>\n",
       "<style scoped>\n",
       "    .dataframe tbody tr th:only-of-type {\n",
       "        vertical-align: middle;\n",
       "    }\n",
       "\n",
       "    .dataframe tbody tr th {\n",
       "        vertical-align: top;\n",
       "    }\n",
       "\n",
       "    .dataframe thead th {\n",
       "        text-align: right;\n",
       "    }\n",
       "</style>\n",
       "<table border=\"1\" class=\"dataframe\">\n",
       "  <thead>\n",
       "    <tr style=\"text-align: right;\">\n",
       "      <th></th>\n",
       "      <th>squareMeters</th>\n",
       "      <th>numberOfRooms</th>\n",
       "      <th>hasYard</th>\n",
       "      <th>hasPool</th>\n",
       "      <th>floors</th>\n",
       "      <th>cityPartRange</th>\n",
       "      <th>numPrevOwners</th>\n",
       "      <th>made</th>\n",
       "      <th>isNewBuilt</th>\n",
       "      <th>hasStormProtector</th>\n",
       "      <th>basement</th>\n",
       "      <th>attic</th>\n",
       "      <th>garage</th>\n",
       "      <th>hasStorageRoom</th>\n",
       "      <th>hasGuestRoom</th>\n",
       "      <th>price</th>\n",
       "    </tr>\n",
       "  </thead>\n",
       "  <tbody>\n",
       "    <tr>\n",
       "      <th>0</th>\n",
       "      <td>75523</td>\n",
       "      <td>3</td>\n",
       "      <td>0</td>\n",
       "      <td>1</td>\n",
       "      <td>63</td>\n",
       "      <td>3</td>\n",
       "      <td>8</td>\n",
       "      <td>2005</td>\n",
       "      <td>0</td>\n",
       "      <td>1</td>\n",
       "      <td>4313</td>\n",
       "      <td>9005</td>\n",
       "      <td>956</td>\n",
       "      <td>0</td>\n",
       "      <td>7</td>\n",
       "      <td>7559081.5</td>\n",
       "    </tr>\n",
       "    <tr>\n",
       "      <th>1</th>\n",
       "      <td>80771</td>\n",
       "      <td>39</td>\n",
       "      <td>1</td>\n",
       "      <td>1</td>\n",
       "      <td>98</td>\n",
       "      <td>8</td>\n",
       "      <td>6</td>\n",
       "      <td>2015</td>\n",
       "      <td>1</td>\n",
       "      <td>0</td>\n",
       "      <td>3653</td>\n",
       "      <td>2436</td>\n",
       "      <td>128</td>\n",
       "      <td>1</td>\n",
       "      <td>2</td>\n",
       "      <td>8085989.5</td>\n",
       "    </tr>\n",
       "    <tr>\n",
       "      <th>2</th>\n",
       "      <td>55712</td>\n",
       "      <td>58</td>\n",
       "      <td>0</td>\n",
       "      <td>1</td>\n",
       "      <td>19</td>\n",
       "      <td>6</td>\n",
       "      <td>8</td>\n",
       "      <td>2021</td>\n",
       "      <td>0</td>\n",
       "      <td>0</td>\n",
       "      <td>2937</td>\n",
       "      <td>8852</td>\n",
       "      <td>135</td>\n",
       "      <td>1</td>\n",
       "      <td>9</td>\n",
       "      <td>5574642.1</td>\n",
       "    </tr>\n",
       "    <tr>\n",
       "      <th>3</th>\n",
       "      <td>32316</td>\n",
       "      <td>47</td>\n",
       "      <td>0</td>\n",
       "      <td>0</td>\n",
       "      <td>6</td>\n",
       "      <td>10</td>\n",
       "      <td>4</td>\n",
       "      <td>2012</td>\n",
       "      <td>0</td>\n",
       "      <td>1</td>\n",
       "      <td>659</td>\n",
       "      <td>7141</td>\n",
       "      <td>359</td>\n",
       "      <td>0</td>\n",
       "      <td>3</td>\n",
       "      <td>3232561.2</td>\n",
       "    </tr>\n",
       "    <tr>\n",
       "      <th>4</th>\n",
       "      <td>70429</td>\n",
       "      <td>19</td>\n",
       "      <td>1</td>\n",
       "      <td>1</td>\n",
       "      <td>90</td>\n",
       "      <td>3</td>\n",
       "      <td>7</td>\n",
       "      <td>1990</td>\n",
       "      <td>1</td>\n",
       "      <td>0</td>\n",
       "      <td>8435</td>\n",
       "      <td>2429</td>\n",
       "      <td>292</td>\n",
       "      <td>1</td>\n",
       "      <td>4</td>\n",
       "      <td>7055052.0</td>\n",
       "    </tr>\n",
       "  </tbody>\n",
       "</table>\n",
       "</div>"
      ],
      "text/plain": [
       "   squareMeters  numberOfRooms  hasYard  hasPool  floors  cityPartRange  \\\n",
       "0         75523              3        0        1      63              3   \n",
       "1         80771             39        1        1      98              8   \n",
       "2         55712             58        0        1      19              6   \n",
       "3         32316             47        0        0       6             10   \n",
       "4         70429             19        1        1      90              3   \n",
       "\n",
       "   numPrevOwners  made  isNewBuilt  hasStormProtector  basement  attic  \\\n",
       "0              8  2005           0                  1      4313   9005   \n",
       "1              6  2015           1                  0      3653   2436   \n",
       "2              8  2021           0                  0      2937   8852   \n",
       "3              4  2012           0                  1       659   7141   \n",
       "4              7  1990           1                  0      8435   2429   \n",
       "\n",
       "   garage  hasStorageRoom  hasGuestRoom      price  \n",
       "0     956               0             7  7559081.5  \n",
       "1     128               1             2  8085989.5  \n",
       "2     135               1             9  5574642.1  \n",
       "3     359               0             3  3232561.2  \n",
       "4     292               1             4  7055052.0  "
      ]
     },
     "execution_count": 13,
     "metadata": {},
     "output_type": "execute_result"
    }
   ],
   "source": [
    "# Check Data\n",
    "df.head()"
   ]
  },
  {
   "cell_type": "markdown",
   "id": "bfb799cf-2c5c-457a-b85b-cda1ea1d6f52",
   "metadata": {},
   "source": [
    "### Preprocessing\n",
    "\n",
    "- Separate the input and output features for trainging the model\n",
    "- Split the data input and output data for traing the model and tesing the performance of the model.\n",
    "- Scale the data to standardize it to same range of data. "
   ]
  },
  {
   "cell_type": "code",
   "execution_count": 14,
   "id": "69e43036-be40-4969-8e9c-b1c93d9dc617",
   "metadata": {},
   "outputs": [],
   "source": [
    "# Separate Input and output features\n",
    "X = df.iloc[: , :-1]\n",
    "y = df.iloc[:,-1]"
   ]
  },
  {
   "cell_type": "code",
   "execution_count": 15,
   "id": "1563046a-3a85-4cab-8b7d-871d1f6a9181",
   "metadata": {},
   "outputs": [],
   "source": [
    "# Train test split\n",
    "X_train, X_test, y_train, y_test = train_test_split(X, y, test_size= 0.2, random_state= 42)"
   ]
  },
  {
   "cell_type": "code",
   "execution_count": 16,
   "id": "138a21a7-631f-4240-9639-fd9377b823da",
   "metadata": {},
   "outputs": [],
   "source": [
    "# Standardize the data\n",
    "scaler = StandardScaler()\n",
    "X_train_s = scaler.fit_transform(X_train)\n",
    "X_test_s = scaler.transform(X_test)"
   ]
  },
  {
   "cell_type": "markdown",
   "id": "7fcbbfe9-a938-4e42-b1ab-b169e93d7bb2",
   "metadata": {},
   "source": [
    "### Model Training and Evaluation\n",
    "\n",
    "- Train the model with training data set for prediction\n",
    "- Evaluate the performance of the model using different metrics"
   ]
  },
  {
   "cell_type": "code",
   "execution_count": 20,
   "id": "dbe5f2c1-b5b3-4e2a-82e3-6bc26efd782a",
   "metadata": {},
   "outputs": [],
   "source": [
    "# Function to train the model with training data and evaluate the metrics\n",
    "def train_evaluate(model):\n",
    "    # Train the model\n",
    "    model.fit(X_train_s, y_train)\n",
    "\n",
    "    # Predict train and test\n",
    "    y_train_pred = model.predict(X_train_s)\n",
    "    y_test_pred = model.predict(X_test_s)\n",
    "\n",
    "    # Print the evaluation metrics for train and test\n",
    "    print(\"=\" * 60)\n",
    "    print(\"EVALUATION OF MODEL FOR TRAIN\")\n",
    "    print(\"=\" * 60)\n",
    "    print(f\"Score: {r2_score(y_train, y_train_pred)}\")\n",
    "    print(f\"RMSE: {np.sqrt(metrics.mean_squared_error(y_train, y_train_pred))}\")\n",
    "    print(f\"MSE: {metrics.mean_squared_error(y_train, y_train_pred)}\")\n",
    "    print(f\"MAE: {metrics.mean_absolute_error(y_train, y_train_pred)}\")\n",
    "    print(\"=\" * 60)\n",
    "    print(\"EVALUATION OF MODEL FOR TEST\")\n",
    "    print(\"=\" * 60)\n",
    "    print(f\"Score: {r2_score(y_test, y_test_pred)}\")\n",
    "    print(f\"RMSE: {np.sqrt(metrics.mean_squared_error(y_test, y_test_pred))}\")\n",
    "    print(f\"MSE: {metrics.mean_squared_error(y_test, y_test_pred)}\")\n",
    "    print(f\"MAE: {metrics.mean_absolute_error(y_test, y_test_pred)}\")"
   ]
  },
  {
   "cell_type": "code",
   "execution_count": 21,
   "id": "2a35d497-580b-40fb-bbab-58d64212899c",
   "metadata": {},
   "outputs": [
    {
     "name": "stdout",
     "output_type": "stream",
     "text": [
      "============================================================\n",
      "EVALUATION OF MODEL FOR TRAIN\n",
      "============================================================\n",
      "Score: 0.999992513256914\n",
      "RMSE: 7813.457355385905\n",
      "MSE: 61050115.84443411\n",
      "MAE: 6112.526243383793\n",
      "============================================================\n",
      "EVALUATION OF MODEL FOR TEST\n",
      "============================================================\n",
      "Score: 0.9999767818318243\n",
      "RMSE: 14260.514392520487\n",
      "MSE: 203362270.73928395\n",
      "MAE: 11643.888599218759\n"
     ]
    }
   ],
   "source": [
    "# Define XGboost regressor\n",
    "xgb = XGBRegressor()\n",
    "\n",
    "train_evaluate(xgb)"
   ]
  },
  {
   "cell_type": "markdown",
   "id": "c2ac97fa-7a4b-45c2-8fa9-a409d32dd4ef",
   "metadata": {},
   "source": [
    "### Key Findings\n",
    "\n",
    "Your XGBRegressor model shows very high R² scores for both the training and test datasets, which suggests that the model is fitting the data extremely well.\n",
    "\n",
    "1. **R² Score**:\n",
    "    - Training Score (0.99999): Indicates near-perfect fit on the training data.\n",
    "    - Test Score (0.99998): Also very high, suggesting that the model generalizes well to unseen data.\n",
    "2. **RMSE (Root Mean Squared Error)**:\n",
    "    - Training RMSE (~7813): This is the average error in the prediction of house prices for the training set.\n",
    "    - Test RMSE (~14260): The error is higher on the test set, which is expected, but the increase should be analyzed.\n",
    "3. **MSE (Mean Squared Error)**:\n",
    "    - The MSE values are consistent with the RMSE values, indicating no obvious issues.\n",
    "4. **MAE (Mean Absolute Error)**:\n",
    "    - Training MAE (~6113): The average magnitude of errors in predictions.\n",
    "    - Test MAE (~11644): Again, the error on the test set is higher.\n",
    "\n",
    "The model might be slightly overfitting the training data, as indicated by the near-perfect score and the fact that the errors are larger on the test set. Although the test score is still high, the increase in RMSE and MAE suggests some overfitting.\n",
    "Even though the R² scores are high, the RMSE and MAE on the test set are relatively significant. Depending on the scale of house prices in your dataset, this error could be substantial."
   ]
  },
  {
   "cell_type": "markdown",
   "id": "effebb57-c642-432f-840b-b75341e219c1",
   "metadata": {},
   "source": [
    "### Hyperparameter Tuning\n",
    "\n",
    "By tuning the hyperparameter of the model we can try to minimize the error."
   ]
  },
  {
   "cell_type": "code",
   "execution_count": 23,
   "id": "68bdca4e-1af9-4793-933b-0c80288debbb",
   "metadata": {},
   "outputs": [],
   "source": [
    "# Define hyperparameter\n",
    "param_dict = {\n",
    "    \"n_estimators\":[100, 500, 1000],\n",
    "    \"max_depth\": [3, 5, 6],\n",
    "    \"min_child_weight\": [1, 2, 3],\n",
    "    \"colsample_bytree\":[0.5, 1.0],\n",
    "    \"reg_lambda\": [0, 1]\n",
    "}"
   ]
  },
  {
   "cell_type": "code",
   "execution_count": 27,
   "id": "18c096b0-b080-4e3f-a9a3-c6b4d050a028",
   "metadata": {},
   "outputs": [
    {
     "name": "stdout",
     "output_type": "stream",
     "text": [
      "Fitting 5 folds for each of 108 candidates, totalling 540 fits\n",
      "Best Score: -10991.061035664063\n",
      "{'colsample_bytree': 1.0, 'max_depth': 6, 'min_child_weight': 1, 'n_estimators': 100, 'reg_lambda': 0}\n"
     ]
    }
   ],
   "source": [
    "# Tune Hyperparameter\n",
    "xgbr_ht = XGBRegressor()\n",
    "gscv = GridSearchCV(estimator= xgbr_ht,\n",
    "                   param_grid= param_dict,\n",
    "                   cv= 5,\n",
    "                   verbose=1, scoring=\"neg_mean_absolute_error\")\n",
    "gscv.fit(X, y)\n",
    "print(f\"Best Score: {gscv.best_score_}\")\n",
    "best_params = gscv.best_params_\n",
    "print(best_params)"
   ]
  },
  {
   "cell_type": "code",
   "execution_count": 28,
   "id": "06fd3ba3-069d-4f5e-99b9-3c23f9063a9e",
   "metadata": {},
   "outputs": [
    {
     "name": "stdout",
     "output_type": "stream",
     "text": [
      "============================================================\n",
      "EVALUATION OF MODEL FOR TRAIN\n",
      "============================================================\n",
      "Score: 0.9999953433481641\n",
      "RMSE: 6162.169856337105\n",
      "MSE: 37972337.33834965\n",
      "MAE: 4905.892946484378\n",
      "============================================================\n",
      "EVALUATION OF MODEL FOR TEST\n",
      "============================================================\n",
      "Score: 0.9999795545956411\n",
      "RMSE: 13381.93965430206\n",
      "MSE: 179076308.9113819\n",
      "MAE: 11084.511072851568\n"
     ]
    }
   ],
   "source": [
    "# Train with best parameters\n",
    "xgb_model = XGBRegressor(**best_params)\n",
    "train_evaluate(xgb_model)"
   ]
  },
  {
   "cell_type": "code",
   "execution_count": 34,
   "id": "93714fd6-147e-4c6e-987f-a8c111db731c",
   "metadata": {},
   "outputs": [],
   "source": [
    "#  Save the model\n",
    "path_model = os.path.join(model_path, \"xbg_php.pkl\")\n",
    "with open(path_model, \"wb\") as model:\n",
    "    pickle.dump(xgb_model, model)"
   ]
  },
  {
   "cell_type": "code",
   "execution_count": null,
   "id": "c2db8d6a-ee6d-4892-96bd-02b43c322598",
   "metadata": {},
   "outputs": [],
   "source": []
  }
 ],
 "metadata": {
  "kernelspec": {
   "display_name": "Python 3 (ipykernel)",
   "language": "python",
   "name": "python3"
  },
  "language_info": {
   "codemirror_mode": {
    "name": "ipython",
    "version": 3
   },
   "file_extension": ".py",
   "mimetype": "text/x-python",
   "name": "python",
   "nbconvert_exporter": "python",
   "pygments_lexer": "ipython3",
   "version": "3.11.9"
  }
 },
 "nbformat": 4,
 "nbformat_minor": 5
}
